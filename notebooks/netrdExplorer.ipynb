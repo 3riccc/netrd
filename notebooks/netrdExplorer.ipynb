{
 "cells": [
  {
   "cell_type": "markdown",
   "metadata": {},
   "source": [
    "### Current non-standard dependecies, panel, param, and matplot lib\n",
    "#### Install separately: pip install panel, pip install param, pip install -U matplotlib\n",
    "#### Details these libraries here: http://pyviz.org/"
   ]
  },
  {
   "cell_type": "code",
   "execution_count": null,
   "metadata": {},
   "outputs": [],
   "source": [
    "import numpy as np\n",
    "#import holoviews as hv\n",
    "import networkx as nx\n",
    "import panel as pn\n",
    "import panel\n",
    "from panel.layout import Row\n",
    "import param\n",
    "import matplotlib.pyplot as plt\n",
    "panel.extension()\n",
    "#hv.extension('bokeh')"
   ]
  },
  {
   "cell_type": "code",
   "execution_count": null,
   "metadata": {},
   "outputs": [],
   "source": [
    "from netrd.reconstruction import RandomReconstructor\n",
    "from netrd.reconstruction import CorrelationMatrixReconstructor\n",
    "from netrd.reconstruction import FreeEnergyMinimizationReconstructor\n",
    "from netrd.reconstruction import RegularizedCorrelationMatrixReconstructor\n",
    "from netrd.reconstruction import PartialCorrelationMatrixReconstructor\n",
    "from netrd.reconstruction import NaiveMeanFieldReconstructor\n",
    "from netrd.reconstruction import ThoulessAndersonPalmerReconstructor\n",
    "from netrd.reconstruction import ExactMeanFieldReconstructor\n",
    "from netrd.reconstruction import MaximumLikelihoodEstimationReconstructor\n",
    "from netrd.reconstruction import ConvergentCrossMappingReconstructor\n",
    "from netrd.reconstruction import MutualInformationMatrixReconstructor\n",
    "from netrd.reconstruction import OUInferenceReconstructor\n",
    "from netrd.reconstruction import GraphicalLassoReconstructor\n",
    "from netrd.reconstruction import NaiveTransferEntropyReconstructor\n",
    "from netrd.reconstruction import MarchenkoPastur\n",
    "from netrd.reconstruction import TimeGrangerCausalityReconstructor\n",
    "from netrd.reconstruction import CorrelationSpanningTree\n",
    "from netrd.reconstruction import OptimalCausationEntropyReconstructor"
   ]
  },
  {
   "cell_type": "code",
   "execution_count": null,
   "metadata": {},
   "outputs": [],
   "source": [
    "from netrd.distance import JaccardDistance\n",
    "from netrd.distance import Hamming\n",
    "from netrd.distance import Frobenius\n",
    "from netrd.distance import PortraitDivergence\n",
    "from netrd.distance import IpsenMikhailov\n",
    "from netrd.distance import HammingIpsenMikhailov\n",
    "from netrd.distance import ResistancePerturbation\n",
    "from netrd.distance import NetSimile"
   ]
  },
  {
   "cell_type": "code",
   "execution_count": null,
   "metadata": {
    "scrolled": true
   },
   "outputs": [],
   "source": [
    "TS = np.loadtxt(\"../data/synth_4clique_N64_simple.csv\",delimiter=',',encoding='utf8')"
   ]
  },
  {
   "cell_type": "code",
   "execution_count": null,
   "metadata": {},
   "outputs": [],
   "source": [
    "options = ['Random','Correlation Matrix','Regularized Correlation Matrix','Partial Correlation Matrix', \n",
    "           'Free Energy Minimization','Naive Mean Field','Thouless Anderson Palmer','Exact Mean Field',\n",
    "           'Maxium Likelihood Estimation','Covergent Cross Mapping','Mutual Information Matrix','OU Inference',\n",
    "           'Graphical Lasso','Naive Transfer Entropy','Marchenko Pastur','Time Granger Causality', 'Correlation Spanning Tree', \n",
    "           'Optimal Causation Entropy']\n",
    "\n",
    "distanceOptions = ['Jaccard','Hamming','Frobenius','Portrait Divergence',\n",
    "                   'Ipsen Mikhailov','Hamming Ipsen Mikhailov','Resistance Perturbation','Net Simile']\n",
    "\n",
    "dist = {'Jaccard': JaccardDistance,\n",
    "        'Hamming': Hamming,\n",
    "        'Frobenius': Frobenius,\n",
    "        'Portrait Divergence': PortraitDivergence,\n",
    "        'Ipsen Mikhailov': IpsenMikhailov,\n",
    "        'Hamming Ipsen Mikhailov': HammingIpsenMikhailov,\n",
    "        'Resistance Perturbation': ResistancePerturbation,\n",
    "        'Net Simile': NetSimile}\n",
    "\n",
    "recons = {'Random': RandomReconstructor,\n",
    "          'Correlation Matrix': CorrelationMatrixReconstructor, \n",
    "          'Free Energy Minimization': FreeEnergyMinimizationReconstructor,\n",
    "          'Regularized Correlation Matrix': RegularizedCorrelationMatrixReconstructor,\n",
    "          'Partial Correlation Matrix': PartialCorrelationMatrixReconstructor, \n",
    "          'Naive Mean Field': NaiveMeanFieldReconstructor,\n",
    "          'Thouless Anderson Palmer': ThoulessAndersonPalmerReconstructor,\n",
    "          'Exact Mean Field': ExactMeanFieldReconstructor,\n",
    "          'Maxium Likelihood Estimation': MaximumLikelihoodEstimationReconstructor,\n",
    "          'Covergent Cross Mapping':  ConvergentCrossMappingReconstructor ,\n",
    "          'Mutual Information Matrix':  MutualInformationMatrixReconstructor,\n",
    "          'OU Inference': OUInferenceReconstructor,\n",
    "          'Graphical Lasso': GraphicalLassoReconstructor,\n",
    "          'Naive Transfer Entropy': NaiveTransferEntropyReconstructor,\n",
    "          'Marchenko Pastur': MarchenkoPastur,\n",
    "          'Time Granger Causality': TimeGrangerCausalityReconstructor,\n",
    "          'Correlation Spanning Tree': CorrelationSpanningTree,\n",
    "          'Optimal Causation Entropy': OptimalCausationEntropyReconstructor\n",
    "         }\n",
    "\n",
    "class netrdExplorer(param.Parameterized):\n",
    "    Graph1 = param.ObjectSelector(default = 'Random' , objects = options)\n",
    "    Graph2 = param.ObjectSelector(default = 'Random' , objects = options)\n",
    "    Distance = param.ObjectSelector(default = 'Jaccard', objects = distanceOptions)\n",
    "    \n",
    "    @param.depends('Graph1','Graph2','Distance')\n",
    "    def graphs(self):\n",
    "        g1Method = recons[self.Graph1]()\n",
    "        G1 = g1Method.fit(TS, threshold_type='degree', avg_k=15)\n",
    "        #g1 = hv.Graph.from_networkx(G1, nx.layout.kamada_kawai_layout, weight=None)\n",
    "        adj = nx.to_numpy_matrix(G1)\n",
    "        fig1 = plt.figure()\n",
    "        #ax1 = fig1.add_subplot(111)\n",
    "        matrix1 = plt.imshow(adj)\n",
    "        colorbar1 = plt.colorbar(matrix1)\n",
    "        g1 = fig1\n",
    "        \n",
    "        g2Method = recons[self.Graph2]()\n",
    "        G2 = g2Method.fit(TS, threshold_type='degree', avg_k=15)\n",
    "        #g2 = hv.Graph.from_networkx(G2, nx.layout.kamada_kawai_layout, weight=None)\n",
    "        adj = nx.to_numpy_matrix(G2)\n",
    "        fig2 = plt.figure()\n",
    "        #ax2 = fig2.add_subplot(111)\n",
    "        matrix2 = plt.imshow(adj)\n",
    "        colorbar2 = plt.colorbar(matrix2)\n",
    "        g2 = fig2\n",
    "        \n",
    "        distance = dist[self.Distance]()\n",
    "        score = distance.dist(G1,G2)\n",
    "        \n",
    "        graphs = pn.Row(g1,g2, score)\n",
    "        \n",
    "        return graphs\n",
    "    \n",
    "    def view(self, **kwargs):\n",
    "        g1 = self.graphs\n",
    "        return pn.Row(g1)\n",
    "    \n",
    "netrd = netrdExplorer()\n",
    "pn.Row(netrd.param, netrd.view()).servable()"
   ]
  },
  {
   "cell_type": "code",
   "execution_count": null,
   "metadata": {},
   "outputs": [],
   "source": [
    "#if you get a charmap error re-run the the cell until it does or try restarting the notebook and\n",
    "#commenting out panel.extenstion() at the top not sure which why it sometimes fail to launch\n",
    "#uncomment below to run app server\n",
    "! panel serve --show --port 5008 netrdExplorer.ipynb"
   ]
  },
  {
   "cell_type": "code",
   "execution_count": null,
   "metadata": {},
   "outputs": [],
   "source": []
  },
  {
   "cell_type": "code",
   "execution_count": null,
   "metadata": {},
   "outputs": [],
   "source": []
  }
 ],
 "metadata": {
  "@webio": {
   "lastCommId": "d1b157833624442681efcbf3c3dd75b7",
   "lastKernelId": "31f90231-b5f9-48d5-81c8-ff922a6b24fb"
  },
  "kernelspec": {
   "display_name": "Python 3",
   "language": "python",
   "name": "python3"
  },
  "language_info": {
   "codemirror_mode": {
    "name": "ipython",
    "version": 3
   },
   "file_extension": ".py",
   "mimetype": "text/x-python",
   "name": "python",
   "nbconvert_exporter": "python",
   "pygments_lexer": "ipython3",
   "version": "3.6.8"
  }
 },
 "nbformat": 4,
 "nbformat_minor": 2
}
