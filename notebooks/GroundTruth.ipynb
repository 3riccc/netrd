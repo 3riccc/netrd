{
 "cells": [
  {
   "cell_type": "code",
   "execution_count": 1,
   "metadata": {
    "collapsed": true
   },
   "outputs": [],
   "source": [
    "import netrd\n",
    "import networkx as nx\n",
    "from collections import defaultdict\n",
    "import numpy as np\n",
    "import matplotlib.pyplot as plt\n",
    "%matplotlib inline"
   ]
  },
  {
   "cell_type": "code",
   "execution_count": 2,
   "metadata": {
    "collapsed": true
   },
   "outputs": [],
   "source": [
    "def generate_data(w,l,binary=True):\n",
    "    \"\"\"\n",
    "    generate binary time-series \n",
    "    - input: interaction matrix w[n,n], interaction variance g, data length l\n",
    "    - output: time series s[l,n]\n",
    "    \"\"\" \n",
    "    n = np.shape(w)[0]\n",
    "    s = np.ones((l,n))\n",
    "    for t in range(1,l-1):\n",
    "        h = np.sum(w[:,:]*s[t,:],axis=1) # Wij from j to i\n",
    "        p = 1/(1+np.exp(-2*h))\n",
    "        if binary:\n",
    "            s[t+1,:]= sign_vec(p-np.random.rand(n))\n",
    "        else:\n",
    "            s[t+1,:]= p-np.random.rand(n)\n",
    "    return s\n",
    "\n",
    "def sign(x):\n",
    "    \"\"\"\n",
    "    np.sign(0) = 0 but here to avoid value 0, \n",
    "    we redefine it as def sign(0) = 1\n",
    "    \"\"\"\n",
    "    return 1. if x >= 0 else -1.\n",
    "\n",
    "def sign_vec(x):\n",
    "    x_vec = np.vectorize(sign)\n",
    "    return x_vec(x)\n",
    "\n",
    "def cross_cov(a,b):\n",
    "    \"\"\" \n",
    "    cross_covariance\n",
    "    a,b -->  <(a - <a>)(b - <b>)>  (axis=0) \n",
    "    \"\"\"    \n",
    "    da = a - np.mean(a, axis=0)\n",
    "    db = b - np.mean(b, axis=0)\n",
    "    return np.matmul(da.T,db)/a.shape[0]\n",
    "\n",
    "def get_Wout_full(G, p0=np.exp(-30)):\n",
    "    \"\"\"\n",
    "    Returns full Wout.\n",
    "    \"\"\"\n",
    "    A = nx.to_numpy_array(G) \n",
    "    Wout = np.zeros(A.shape)\n",
    "    for i in range(A.shape[0]):\n",
    "        if A[i].sum()>0:\n",
    "            Wout[i] = A[i]/A[i].sum()\n",
    "    \n",
    "    for i in range(Wout.shape[0]):\n",
    "        if A[i].sum()>0:\n",
    "            temp = Wout[i] + np.random.uniform(0, p0, size=Wout[i].shape)\n",
    "            Wout[i] = temp/temp.sum()\n",
    "    \n",
    "    return Wout\n",
    "\n",
    "def simulated_timeseries_from_network(N, t, network_type='BA'):\n",
    "    \"\"\"\n",
    "    **Very** rudimentary function for generating (Nxt) time series data. Calls a\n",
    "    modified version of the generate_data function from the Hoang, Song, Periwal, \n",
    "    & Jo (2017) paper above.\n",
    "\n",
    "    Inputs:\n",
    "    - N: int, number of nodes\n",
    "    - T: int, length of time series\n",
    "    - network_type: str, indicates type of network\n",
    "    \n",
    "    Output: \n",
    "    - ts: np.ndarray, a time series of activity from N nodes over T timesteps\n",
    "    \"\"\"\n",
    "    p0 = 0\n",
    "    if network_type==\"BA\":\n",
    "        m = 2 # let's say...\n",
    "        G = nx.barabasi_albert_graph(N, m)\n",
    "        \n",
    "    if network_type==\"C4\":\n",
    "        n_cliques = 4 # let's say...\n",
    "        G = nx.ring_of_cliques(n_cliques,int(N/n_cliques))\n",
    "        \n",
    "    if network_type==\"ER\":\n",
    "        p = 5/N # let's say...\n",
    "        G = nx.erdos_renyi_graph(N, p)\n",
    "        \n",
    "    G = nx.to_directed(G)\n",
    "    w0 = get_Wout_full(G, p0)\n",
    "    ts = generate_data(w0, t).T\n",
    "    \n",
    "    return ts, G"
   ]
  },
  {
   "cell_type": "code",
   "execution_count": 3,
   "metadata": {
    "collapsed": true
   },
   "outputs": [],
   "source": [
    "net_type = 'C4'\n",
    "ts, G = simulated_timeseries_from_network(64, 2001, network_type=net_type)"
   ]
  },
  {
   "cell_type": "code",
   "execution_count": 4,
   "metadata": {
    "collapsed": true
   },
   "outputs": [],
   "source": [
    "## Load datasets\n",
    "datasets = {net_type:ts}\n",
    "ground_truth = {net_type:G}\n",
    "\n",
    "## Load reconstruction methods\n",
    "reconstructors = {\n",
    "                  'correlation_matrix':netrd.reconstruction.CorrelationMatrixReconstructor(),\n",
    "                  'convergent_crossmappings':netrd.reconstruction.ConvergentCrossMappingReconstructor(),\n",
    "                  'exact_mean_field':netrd.reconstruction.ExactMeanFieldReconstructor(),\n",
    "                  'free_energy_minimization':netrd.reconstruction.FreeEnergyMinimizationReconstructor(),\n",
    "                  'graphical_lasso':netrd.reconstruction.GraphicalLassoReconstructor(),\n",
    "                  'maximum_likelihood':netrd.reconstruction.MaximumLikelihoodEstimationReconstructor(),\n",
    "                  'mutual_information':netrd.reconstruction.MutualInformationMatrixReconstructor(),\n",
    "                  'ou_inference':netrd.reconstruction.OUInferenceReconstructor(),\n",
    "                  'partial_correlation':netrd.reconstruction.PartialCorrelationMatrixReconstructor(),\n",
    "                  'thouless_anderson_palmer':netrd.reconstruction.ThoulessAndersonPalmerReconstructor(),\n",
    "                  'marchenko_pastur':netrd.reconstruction.MarchenkoPastur()\n",
    "                 }\n",
    "\n",
    "\n",
    "\n",
    "## Load distance methods\n",
    "distance_methods = {'jaccard':netrd.distance.JaccardDistance(),\n",
    "                    'hamming_ipsen_mikhailov':netrd.distance.HammingIpsenMikhailov(),\n",
    "                    'portrait_divergence':netrd.distance.PortraitDivergence(),\n",
    "                    'frobenius':netrd.distance.Frobenius(),\n",
    "                    'netsimilie':netrd.distance.NetSimile()\n",
    "                   }\n"
   ]
  },
  {
   "cell_type": "code",
   "execution_count": 5,
   "metadata": {},
   "outputs": [
    {
     "name": "stdout",
     "output_type": "stream",
     "text": [
      "Computing network reconstructions\n",
      "dataset: C4\n",
      "convergent_crossmappings...done\n",
      "maximum_likelihood...done\n",
      "ou_inference...done\n",
      "partial_correlation...done\n",
      "graphical_lasso...done\n",
      "thouless_anderson_palmer...done\n",
      "marchenko_pastur...done\n",
      "exact_mean_field...done\n",
      "free_energy_minimization...done\n",
      "mutual_information...done\n",
      "correlation_matrix...done\n"
     ]
    }
   ],
   "source": [
    "## Dictionary of dictionaries containing the reconstructed networks\n",
    "## <dataset_name, <recon_method_name, reconstructed_graph>\n",
    "networks = defaultdict(dict)\n",
    "\n",
    "print('Computing network reconstructions')\n",
    "## First get all of the reconstructions for every dataset\n",
    "for data_name, time_series in datasets.items():\n",
    "    print('dataset: ' + str(data_name))\n",
    "    for reconstruction_method, reconstructor in reconstructors.items():\n",
    "        print(reconstruction_method + '...', end='')\n",
    "        networks[data_name][reconstruction_method] = reconstructor.fit(time_series, threshold_type='degree', avg_k=15, binary=True)\n",
    "        print('done')"
   ]
  },
  {
   "cell_type": "code",
   "execution_count": 6,
   "metadata": {
    "collapsed": true
   },
   "outputs": [],
   "source": [
    "## get the names of the methods\n",
    "reconstruction_methods = sorted([method for method in reconstructors.keys()])\n",
    "distance_methods_list = sorted([method for method in distance_methods.keys()])"
   ]
  },
  {
   "cell_type": "code",
   "execution_count": 7,
   "metadata": {
    "collapsed": true
   },
   "outputs": [],
   "source": [
    "results = np.zeros((len(distance_methods_list), len(reconstruction_methods)))"
   ]
  },
  {
   "cell_type": "code",
   "execution_count": 8,
   "metadata": {},
   "outputs": [
    {
     "name": "stdout",
     "output_type": "stream",
     "text": [
      "distance: frobenius\n",
      "distance: hamming_ipsen_mikhailov\n",
      "distance: netsimilie\n",
      "distance: jaccard\n",
      "distance: portrait_divergence\n"
     ]
    }
   ],
   "source": [
    "for data_name, networks_dict in networks.items():\n",
    "    for distance_method, distance_function in distance_methods.items():\n",
    "        print('distance: ' + distance_method)\n",
    "        for reconstruction_method1, network1 in networks_dict.items():\n",
    "            distance = distance_function.dist(network1, ground_truth[data_name])\n",
    "            results[distance_methods_list.index(distance_method), reconstruction_methods.index(reconstruction_method1)] = distance"
   ]
  },
  {
   "cell_type": "code",
   "execution_count": 9,
   "metadata": {
    "collapsed": true
   },
   "outputs": [],
   "source": [
    "## Normalize by max across within each distance\n",
    "for i in range(results.shape[0]):\n",
    "    results[i] /= results[i].max()"
   ]
  },
  {
   "cell_type": "code",
   "execution_count": 10,
   "metadata": {},
   "outputs": [
    {
     "name": "stdout",
     "output_type": "stream",
     "text": [
      "Generating C4.png\n"
     ]
    },
    {
     "data": {
      "image/png": "[encoded data removed]",
      "text/plain": [
       "<Figure size 691.2x691.2 with 1 Axes>"
      ]
     },
     "metadata": {},
     "output_type": "display_data"
    }
   ],
   "source": [
    "print('Generating ' + net_type + '.png')\n",
    "N_reconstructors = len(reconstruction_methods)\n",
    "N_distances = len(distance_methods_list)\n",
    "mat = results\n",
    "#### plotting parameters ####\n",
    "netrd_cmap = 'bone_r'\n",
    "width = 1.2\n",
    "heigh = 1.2\n",
    "mult  = 8.0\n",
    "\n",
    "###### plot the mat ###########\n",
    "fig, ax0 = plt.subplots(1, 1, figsize=(width*mult,heigh*mult))\n",
    "\n",
    "ax0.imshow(mat, aspect='auto', cmap=netrd_cmap)\n",
    "\n",
    "###### be obsessive about it ###########\n",
    "ax0.set_xticks(np.arange(0, N_reconstructors, 1))\n",
    "ax0.set_yticks(np.arange(0, N_distances, 1))\n",
    "# ax0.set_xticklabels(np.arange(0, N_methods, 1), fontsize=2.0*mult)\n",
    "# ax0.set_yticklabels(np.arange(0, N_methods, 1), fontsize=2.0*mult)\n",
    "ax0.set_xticklabels(reconstruction_methods, fontsize=1.5*mult, rotation=270)\n",
    "ax0.set_yticklabels(distance_methods_list, fontsize=1.5*mult)\n",
    "ax0.set_xticks(np.arange(-.5, N_reconstructors-0.5, 1), minor=True)\n",
    "ax0.set_yticks(np.arange(-.5, N_distances-0.5, 1), minor=True)\n",
    "ax0.grid(which='minor', color='#333333', linestyle='-', linewidth=1.5)\n",
    "\n",
    "ax0.set_title(\"Distance between reconstructions and ground truth in \" + net_type + \" network\", fontsize=2.5*mult)\n",
    "\n",
    "plt.savefig(net_type + '.png', bbox_inches='tight', dpi=200)"
   ]
  },
  {
   "cell_type": "code",
   "execution_count": null,
   "metadata": {
    "collapsed": true
   },
   "outputs": [],
   "source": []
  }
 ],
 "metadata": {
  "kernelspec": {
   "display_name": "Python [conda env:py3]",
   "language": "python",
   "name": "conda-env-py3-py"
  },
  "language_info": {
   "codemirror_mode": {
    "name": "ipython",
    "version": 3
   },
   "file_extension": ".py",
   "mimetype": "text/x-python",
   "name": "python",
   "nbconvert_exporter": "python",
   "pygments_lexer": "ipython3",
   "version": "3.5.3"
  }
 },
 "nbformat": 4,
 "nbformat_minor": 2
}
