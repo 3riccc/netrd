{
 "cells": [
  {
   "cell_type": "code",
   "execution_count": 1,
   "metadata": {
    "collapsed": true
   },
   "outputs": [],
   "source": [
    "import numpy as np\n",
    "import networkx as nx\n",
    "from matplotlib import pyplot as plt\n",
    "from netrd.reconstruction import CorrelationSpanningTree\n",
    "%matplotlib inline"
   ]
  },
  {
   "cell_type": "code",
   "execution_count": 2,
   "metadata": {
    "collapsed": true
   },
   "outputs": [],
   "source": [
    "N = 25\n",
    "T = 300\n",
    "M = np.random.normal(size=(N,T))"
   ]
  },
  {
   "cell_type": "code",
   "execution_count": 3,
   "metadata": {},
   "outputs": [
    {
     "name": "stdout",
     "output_type": "stream",
     "text": [
      "Create correlated time series\n"
     ]
    }
   ],
   "source": [
    "print('Create correlated time series')\n",
    "market_mode = 0.4*np.random.normal(size=(1,T))\n",
    "M += market_mode\n",
    "\n",
    "sector_modes = {d: 0.5*np.random.normal(size=(1,T)) for d in range(5)}\n",
    "for sector_mode, vals in sector_modes.items():\n",
    "    M[sector_mode*5:(sector_mode+1)*5,:] += vals"
   ]
  },
  {
   "cell_type": "code",
   "execution_count": 4,
   "metadata": {},
   "outputs": [
    {
     "name": "stdout",
     "output_type": "stream",
     "text": [
      "Associate node colors to sectors\n"
     ]
    }
   ],
   "source": [
    "print('Associate node colors to sectors')\n",
    "colors = ['b','r','g','y','m']\n",
    "node_colors = [color for color in colors for __ in range(5)]"
   ]
  },
  {
   "cell_type": "code",
   "execution_count": 5,
   "metadata": {},
   "outputs": [
    {
     "name": "stdout",
     "output_type": "stream",
     "text": [
      "Network reconstruction step\n"
     ]
    }
   ],
   "source": [
    "print('Network reconstruction step')\n",
    "cst_net = CorrelationSpanningTree()\n",
    "G = cst_net.fit(M)"
   ]
  },
  {
   "cell_type": "code",
   "execution_count": 6,
   "metadata": {},
   "outputs": [
    {
     "name": "stdout",
     "output_type": "stream",
     "text": [
      "Plot reconstructed spanning tree\n"
     ]
    },
    {
     "data": {
      "image/png": "[encoded data removed]",
      "text/plain": [
       "<Figure size 432x288 with 1 Axes>"
      ]
     },
     "metadata": {},
     "output_type": "display_data"
    }
   ],
   "source": [
    "print('Plot reconstructed spanning tree')\n",
    "fig, ax = plt.subplots()\n",
    "nx.draw(G, ax=ax, node_color=node_colors)"
   ]
  }
 ],
 "metadata": {
  "kernelspec": {
   "display_name": "Python 3",
   "language": "python",
   "name": "python3"
  },
  "language_info": {
   "codemirror_mode": {
    "name": "ipython",
    "version": 3
   },
   "file_extension": ".py",
   "mimetype": "text/x-python",
   "name": "python",
   "nbconvert_exporter": "python",
   "pygments_lexer": "ipython3",
   "version": "3.5.2"
  }
 },
 "nbformat": 4,
 "nbformat_minor": 2
}
